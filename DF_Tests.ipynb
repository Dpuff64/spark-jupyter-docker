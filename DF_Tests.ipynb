{
 "cells": [
  {
   "cell_type": "code",
   "execution_count": 62,
   "id": "1c9a6739-e7e9-4890-8c10-d4f9e913a482",
   "metadata": {},
   "outputs": [],
   "source": [
    "from pyspark.sql import SparkSession\n",
    "spark = SparkSession.builder.getOrCreate()  # Reuses the existing session"
   ]
  },
  {
   "cell_type": "code",
   "execution_count": 63,
   "id": "4b35d2ff-1c06-4dcf-9947-75d904bb4b53",
   "metadata": {},
   "outputs": [
    {
     "name": "stdout",
     "output_type": "stream",
     "text": [
      "+----+--------------------+--------+----+------------+--------------------+--------+--------+--------+-----------+------------+\n",
      "|Rank|                Name|Platform|Year|       Genre|           Publisher|NA_Sales|EU_Sales|JP_Sales|Other_Sales|Global_Sales|\n",
      "+----+--------------------+--------+----+------------+--------------------+--------+--------+--------+-----------+------------+\n",
      "|   1|          Wii Sports|     Wii|2006|      Sports|            Nintendo|   41.49|   29.02|    3.77|       8.46|       82.74|\n",
      "|   2|   Super Mario Bros.|     NES|1985|    Platform|            Nintendo|   29.08|    3.58|    6.81|       0.77|       40.24|\n",
      "|   3|      Mario Kart Wii|     Wii|2008|      Racing|            Nintendo|   15.85|   12.88|    3.79|       3.31|       35.82|\n",
      "|   4|   Wii Sports Resort|     Wii|2009|      Sports|            Nintendo|   15.75|   11.01|    3.28|       2.96|        33.0|\n",
      "|   5|Pokemon Red/Pokem...|      GB|1996|Role-Playing|            Nintendo|   11.27|    8.89|   10.22|        1.0|       31.37|\n",
      "|   6|              Tetris|      GB|1989|      Puzzle|            Nintendo|    23.2|    2.26|    4.22|       0.58|       30.26|\n",
      "|   7|New Super Mario B...|      DS|2006|    Platform|            Nintendo|   11.38|    9.23|     6.5|        2.9|       30.01|\n",
      "|   8|            Wii Play|     Wii|2006|        Misc|            Nintendo|   14.03|     9.2|    2.93|       2.85|       29.02|\n",
      "|   9|New Super Mario B...|     Wii|2009|    Platform|            Nintendo|   14.59|    7.06|     4.7|       2.26|       28.62|\n",
      "|  10|           Duck Hunt|     NES|1984|     Shooter|            Nintendo|   26.93|    0.63|    0.28|       0.47|       28.31|\n",
      "|  11|          Nintendogs|      DS|2005|  Simulation|            Nintendo|    9.07|    11.0|    1.93|       2.75|       24.76|\n",
      "|  12|       Mario Kart DS|      DS|2005|      Racing|            Nintendo|    9.81|    7.57|    4.13|       1.92|       23.42|\n",
      "|  13|Pokemon Gold/Poke...|      GB|1999|Role-Playing|            Nintendo|     9.0|    6.18|     7.2|       0.71|        23.1|\n",
      "|  14|             Wii Fit|     Wii|2007|      Sports|            Nintendo|    8.94|    8.03|     3.6|       2.15|       22.72|\n",
      "|  15|        Wii Fit Plus|     Wii|2009|      Sports|            Nintendo|    9.09|    8.59|    2.53|       1.79|        22.0|\n",
      "|  16|  Kinect Adventures!|    X360|2010|        Misc|Microsoft Game St...|   14.97|    4.94|    0.24|       1.67|       21.82|\n",
      "|  17|  Grand Theft Auto V|     PS3|2013|      Action|Take-Two Interactive|    7.01|    9.27|    0.97|       4.14|        21.4|\n",
      "|  18|Grand Theft Auto:...|     PS2|2004|      Action|Take-Two Interactive|    9.43|     0.4|    0.41|      10.57|       20.81|\n",
      "|  19|   Super Mario World|    SNES|1990|    Platform|            Nintendo|   12.78|    3.75|    3.54|       0.55|       20.61|\n",
      "|  20|Brain Age: Train ...|      DS|2005|        Misc|            Nintendo|    4.75|    9.26|    4.16|       2.05|       20.22|\n",
      "+----+--------------------+--------+----+------------+--------------------+--------+--------+--------+-----------+------------+\n",
      "only showing top 20 rows\n",
      "\n"
     ]
    }
   ],
   "source": [
    "df = spark.read.csv(\"/data/vgsales.csv\", header=True, inferSchema=True)\n",
    "# Show first 5 rows\n",
    "df.show()"
   ]
  },
  {
   "cell_type": "code",
   "execution_count": 64,
   "id": "4d25a3c8-f5df-4275-b7bc-3e3042798b85",
   "metadata": {},
   "outputs": [
    {
     "name": "stdout",
     "output_type": "stream",
     "text": [
      "+--------------------+----+\n",
      "|                name|year|\n",
      "+--------------------+----+\n",
      "|          Wii Sports|2006|\n",
      "|      Mario Kart Wii|2008|\n",
      "|   Wii Sports Resort|2009|\n",
      "|New Super Mario B...|2006|\n",
      "|            Wii Play|2006|\n",
      "|New Super Mario B...|2009|\n",
      "|             Wii Fit|2007|\n",
      "|        Wii Fit Plus|2009|\n",
      "|  Kinect Adventures!|2010|\n",
      "|  Grand Theft Auto V|2013|\n",
      "|Pokemon Diamond/P...|2006|\n",
      "|  Grand Theft Auto V|2013|\n",
      "|Pokemon Black/Pok...|2010|\n",
      "|Call of Duty: Mod...|2011|\n",
      "|Call of Duty: Bla...|2010|\n",
      "| Pokemon X/Pokemon Y|2013|\n",
      "|Call of Duty: Bla...|2015|\n",
      "|Call of Duty: Bla...|2012|\n",
      "|Call of Duty: Bla...|2012|\n",
      "|Call of Duty: Mod...|2009|\n",
      "+--------------------+----+\n",
      "only showing top 20 rows\n",
      "\n"
     ]
    }
   ],
   "source": [
    "df.select(\"name\", \"year\").filter(df[\"year\"] > 2005).show()"
   ]
  },
  {
   "cell_type": "code",
   "execution_count": 65,
   "id": "8fcda4b4-986f-4bc0-a99d-111cca7b962c",
   "metadata": {},
   "outputs": [
    {
     "name": "stdout",
     "output_type": "stream",
     "text": [
      "Tiempo de ejecución RDD: 0.0740 segundos\n"
     ]
    }
   ],
   "source": [
    "import time\n",
    "\n",
    "# Medir el tiempo de ejecución para RDD\n",
    "start_time = time.time()\n",
    "\n",
    "# Crear un RDD con la columna 'Global_Sales' y 'Name'\n",
    "rdd = df.rdd.map(lambda row: (row.Name, row.Global_Sales))\n",
    "\n",
    "# Realizar una operación, por ejemplo, multiplicar las ventas globales por 2\n",
    "rdd_result = rdd.map(lambda x: (x[0], x[1] * 2))\n",
    "\n",
    "# Mostrar los primeros resultados\n",
    "rdd_result.take(5)\n",
    "\n",
    "# Tiempo de ejecución\n",
    "end_time = time.time()\n",
    "tiempo_rdd = end_time - start_time\n",
    "print(f\"Tiempo de ejecución RDD: {tiempo_rdd:.4f} segundos\")\n"
   ]
  },
  {
   "cell_type": "code",
   "execution_count": 73,
   "id": "7ae4bcf3-c4e2-4681-a060-07815dcbcb46",
   "metadata": {},
   "outputs": [
    {
     "name": "stdout",
     "output_type": "stream",
     "text": [
      "+--------------------+------------------+\n",
      "|                Name|Global_Sales_Doble|\n",
      "+--------------------+------------------+\n",
      "|          Wii Sports|            165.48|\n",
      "|   Super Mario Bros.|             80.48|\n",
      "|      Mario Kart Wii|             71.64|\n",
      "|   Wii Sports Resort|              66.0|\n",
      "|Pokemon Red/Pokem...|             62.74|\n",
      "+--------------------+------------------+\n",
      "only showing top 5 rows\n",
      "\n",
      "Tiempo de ejecución DataFrame: 0.0509 segundos\n"
     ]
    }
   ],
   "source": [
    "# Medir el tiempo de ejecución para DataFrame\n",
    "start_time = time.time()\n",
    "\n",
    "# Usar DataFrame para realizar la misma operación (multiplicar 'Global_Sales' por 2)\n",
    "df_transformed = df.withColumn(\"Global_Sales_Doble\", df[\"Global_Sales\"] * 2)\n",
    "\n",
    "# Mostrar los primeros resultados\n",
    "df_transformed.select(\"Name\", \"Global_Sales_Doble\").show(5)\n",
    "\n",
    "# Tiempo de ejecución\n",
    "end_time = time.time()\n",
    "tiempo_df = end_time - start_time\n",
    "print(f\"Tiempo de ejecución DataFrame: {tiempo_df:.4f} segundos\")\n"
   ]
  },
  {
   "cell_type": "code",
   "execution_count": 75,
   "id": "fafbca67-44ca-40a5-ab8b-bd324fb25913",
   "metadata": {},
   "outputs": [
    {
     "name": "stdout",
     "output_type": "stream",
     "text": [
      "+--------------------+------------------+\n",
      "|                Name|Global_Sales_Doble|\n",
      "+--------------------+------------------+\n",
      "|          Wii Sports|            165.48|\n",
      "|   Super Mario Bros.|             80.48|\n",
      "|      Mario Kart Wii|             71.64|\n",
      "|   Wii Sports Resort|              66.0|\n",
      "|Pokemon Red/Pokem...|             62.74|\n",
      "+--------------------+------------------+\n",
      "only showing top 5 rows\n",
      "\n",
      "Tiempo de ejecución SQL: 0.0641 segundos\n"
     ]
    }
   ],
   "source": [
    "# Crear vista temporal para ejecutar SQL\n",
    "df.createOrReplaceTempView(\"ventas\")\n",
    "# Ejecutar consulta SQL usando Spark SQL\n",
    "start_time = time.time()\n",
    "\n",
    "# Consulta SQL: Multiplicar las ventas globales por 2\n",
    "resultado_sql = spark.sql(\"\"\"\n",
    "    SELECT Name, Global_Sales * 2 AS Global_Sales_Doble\n",
    "    FROM ventas\n",
    "\"\"\")\n",
    "\n",
    "# Mostrar resultados\n",
    "resultado_sql.show(5)\n",
    "\n",
    "# Medir el tiempo de ejecución\n",
    "end_time = time.time()\n",
    "tiempo_sql = end_time - start_time\n",
    "print(f\"Tiempo de ejecución SQL: {tiempo_sql:.4f} segundos\")\n"
   ]
  },
  {
   "cell_type": "code",
   "execution_count": 77,
   "id": "51c7040b-b19d-4990-b531-7435553918d7",
   "metadata": {},
   "outputs": [
    {
     "data": {
      "image/png": "[encoded data removed]",
      "text/plain": [
       "<Figure size 640x480 with 1 Axes>"
      ]
     },
     "metadata": {},
     "output_type": "display_data"
    }
   ],
   "source": [
    "import matplotlib.pyplot as plt\n",
    "\n",
    "# Crear gráfico\n",
    "plt.bar(['RDD', 'DataFrame','SQL'], [tiempo_rdd, tiempo_df,tiempo_sql])\n",
    "plt.title('Comparación de Tiempos de Ejecución')\n",
    "plt.xlabel('Tipo de Operación')\n",
    "plt.ylabel('Tiempo de Ejecución (segundos)')\n",
    "plt.show()"
   ]
  },
  {
   "cell_type": "code",
   "execution_count": null,
   "id": "379f5ffd-bf4e-42a9-aa06-e2e309fa9b9c",
   "metadata": {},
   "outputs": [],
   "source": []
  }
 ],
 "metadata": {
  "kernelspec": {
   "display_name": "Python 3 (ipykernel)",
   "language": "python",
   "name": "python3"
  },
  "language_info": {
   "codemirror_mode": {
    "name": "ipython",
    "version": 3
   },
   "file_extension": ".py",
   "mimetype": "text/x-python",
   "name": "python",
   "nbconvert_exporter": "python",
   "pygments_lexer": "ipython3",
   "version": "3.8.10"
  }
 },
 "nbformat": 4,
 "nbformat_minor": 5
}
