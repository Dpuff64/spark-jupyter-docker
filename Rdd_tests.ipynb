{
 "cells": [
  {
   "cell_type": "code",
   "execution_count": 41,
   "id": "dd42b109-125c-4078-ba63-6fa7cb6530d2",
   "metadata": {},
   "outputs": [],
   "source": [
    "from pyspark.sql import SparkSession\n",
    "from pyspark import StorageLevel\n",
    "\n",
    "# Initialize Spark session with cluster master\n",
    "spark = SparkSession.builder \\\n",
    "    .appName(\"SparkExample\") \\\n",
    "    .master(\"spark://spark-master:7077\") \\\n",
    "    .config(\"spark.driver.memory\", \"2g\") \\\n",
    "    .config(\"spark.executor.memory\", \"2g\") \\\n",
    "    .getOrCreate()"
   ]
  },
  {
   "cell_type": "code",
   "execution_count": 42,
   "id": "0cea24aa-ea6b-472b-9335-4ad9a203d448",
   "metadata": {},
   "outputs": [
    {
     "name": "stdout",
     "output_type": "stream",
     "text": [
      "Conteo: 2, Elementos: [2, 4]\n"
     ]
    }
   ],
   "source": [
    "# Creación y transformaciones básicas\n",
    "sc = spark.sparkContext\n",
    "rdd = sc.parallelize([1, 2, 3, 4, 5])\n",
    "rdd_map = rdd.map(lambda x: (x, x**2))\n",
    "rdd_filter = rdd.filter(lambda x: x % 2 == 0)\n",
    "\n",
    "# Acción persistente + visualización\n",
    "rdd_filter.persist(StorageLevel.MEMORY_ONLY)\n",
    "print(f\"Conteo: {rdd_filter.count()}, Elementos: {rdd_filter.collect()}\")"
   ]
  },
  {
   "cell_type": "code",
   "execution_count": 45,
   "id": "1516892d-adfa-4618-ad2d-c6cd805045c5",
   "metadata": {},
   "outputs": [
    {
     "name": "stderr",
     "output_type": "stream",
     "text": [
      "                                                                                "
     ]
    },
    {
     "name": "stdout",
     "output_type": "stream",
     "text": [
      "Tiempo sin caching: 5.0376 segundos\n",
      "Tiempo con caching (segunda ejecución): 5.0117 segundos\n",
      "\n",
      "Top 10 palabras más frecuentes:\n",
      "the: 1560295\n",
      "and: 838774\n",
      "i: 798349\n",
      "a: 791028\n",
      "to: 759410\n",
      "of: 625868\n",
      "this: 557680\n",
      "is: 540663\n",
      "it: 527640\n",
      "in: 357511\n"
     ]
    },
    {
     "name": "stderr",
     "output_type": "stream",
     "text": [
      "25/02/24 02:21:53 ERROR TaskSchedulerImpl: Lost executor 80 on 172.20.0.4: worker lost: Not receiving heartbeat for 60 seconds\n",
      "25/02/24 02:21:53 ERROR TaskSchedulerImpl: Lost executor 78 on 172.20.0.5: worker lost: Not receiving heartbeat for 60 seconds\n",
      "25/02/24 02:21:53 ERROR TaskSchedulerImpl: Lost executor 79 on 172.20.0.3: worker lost: Not receiving heartbeat for 60 seconds\n",
      "25/02/24 02:21:53 WARN BlockManagerMasterEndpoint: No more replicas available for rdd_345_2 !\n",
      "25/02/24 02:21:53 WARN BlockManagerMasterEndpoint: No more replicas available for rdd_252_1 !\n",
      "25/02/24 02:21:53 WARN BlockManagerMasterEndpoint: No more replicas available for rdd_210_0 !\n",
      "25/02/24 02:21:53 WARN BlockManagerMasterEndpoint: No more replicas available for rdd_239_1 !\n",
      "25/02/24 02:21:53 WARN BlockManagerMasterEndpoint: No more replicas available for rdd_270_2 !\n",
      "25/02/24 02:21:53 WARN BlockManagerMasterEndpoint: No more replicas available for rdd_306_0 !\n",
      "25/02/24 02:21:53 WARN BlockManagerMasterEndpoint: No more replicas available for rdd_384_5 !\n",
      "25/02/24 02:21:53 WARN BlockManagerMasterEndpoint: No more replicas available for rdd_345_5 !\n",
      "25/02/24 02:21:53 WARN BlockManagerMasterEndpoint: No more replicas available for rdd_309_4 !\n",
      "25/02/24 02:21:53 WARN BlockManagerMasterEndpoint: No more replicas available for rdd_402_5 !\n",
      "25/02/24 02:21:53 WARN BlockManagerMasterEndpoint: No more replicas available for rdd_363_2 !\n",
      "25/02/24 02:21:53 WARN BlockManagerMasterEndpoint: No more replicas available for rdd_288_2 !\n",
      "25/02/24 02:21:53 WARN BlockManagerMasterEndpoint: No more replicas available for rdd_252_5 !\n",
      "25/02/24 02:21:53 WARN BlockManagerMasterEndpoint: No more replicas available for rdd_239_4 !\n",
      "25/02/24 02:21:53 WARN BlockManagerMasterEndpoint: No more replicas available for rdd_309_0 !\n",
      "25/02/24 02:21:53 WARN BlockManagerMasterEndpoint: No more replicas available for rdd_366_5 !\n",
      "25/02/24 02:21:53 WARN BlockManagerMasterEndpoint: No more replicas available for rdd_288_3 !\n",
      "25/02/24 02:21:53 WARN BlockManagerMasterEndpoint: No more replicas available for rdd_327_2 !\n",
      "25/02/24 02:21:53 WARN BlockManagerMasterEndpoint: No more replicas available for rdd_366_1 !\n",
      "25/02/24 02:21:53 WARN BlockManagerMasterEndpoint: No more replicas available for rdd_270_3 !\n",
      "25/02/24 02:21:53 WARN BlockManagerMasterEndpoint: No more replicas available for rdd_327_5 !\n",
      "25/02/24 02:21:53 WARN BlockManagerMasterEndpoint: No more replicas available for rdd_384_2 !\n",
      "25/02/24 02:21:53 WARN BlockManagerMasterEndpoint: No more replicas available for rdd_402_0 !\n",
      "25/02/24 02:21:53 WARN BlockManagerMasterEndpoint: No more replicas available for rdd_252_2 !\n",
      "25/02/24 02:21:53 WARN BlockManagerMasterEndpoint: No more replicas available for rdd_306_1 !\n",
      "25/02/24 02:21:53 WARN BlockManagerMasterEndpoint: No more replicas available for rdd_345_0 !\n",
      "25/02/24 02:21:53 WARN BlockManagerMasterEndpoint: No more replicas available for rdd_327_0 !\n",
      "25/02/24 02:21:53 WARN BlockManagerMasterEndpoint: No more replicas available for rdd_345_4 !\n",
      "25/02/24 02:21:53 WARN BlockManagerMasterEndpoint: No more replicas available for rdd_252_4 !\n",
      "25/02/24 02:21:53 WARN BlockManagerMasterEndpoint: No more replicas available for rdd_270_5 !\n",
      "25/02/24 02:21:53 WARN BlockManagerMasterEndpoint: No more replicas available for rdd_384_1 !\n",
      "25/02/24 02:21:53 WARN BlockManagerMasterEndpoint: No more replicas available for rdd_309_1 !\n",
      "25/02/24 02:21:53 WARN BlockManagerMasterEndpoint: No more replicas available for rdd_402_4 !\n",
      "25/02/24 02:21:53 WARN BlockManagerMasterEndpoint: No more replicas available for rdd_384_4 !\n",
      "25/02/24 02:21:53 WARN BlockManagerMasterEndpoint: No more replicas available for rdd_210_2 !\n",
      "25/02/24 02:21:53 WARN BlockManagerMasterEndpoint: No more replicas available for rdd_309_5 !\n",
      "25/02/24 02:21:53 WARN BlockManagerMasterEndpoint: No more replicas available for rdd_239_2 !\n",
      "25/02/24 02:21:53 WARN BlockManagerMasterEndpoint: No more replicas available for rdd_288_5 !\n",
      "25/02/24 02:21:53 WARN BlockManagerMasterEndpoint: No more replicas available for rdd_363_1 !\n",
      "25/02/24 02:21:53 WARN BlockManagerMasterEndpoint: No more replicas available for rdd_288_1 !\n",
      "25/02/24 02:21:53 WARN BlockManagerMasterEndpoint: No more replicas available for rdd_402_2 !\n",
      "25/02/24 02:21:53 WARN BlockManagerMasterEndpoint: No more replicas available for rdd_270_1 !\n",
      "25/02/24 02:21:53 WARN BlockManagerMasterEndpoint: No more replicas available for rdd_239_5 !\n",
      "25/02/24 02:21:53 WARN BlockManagerMasterEndpoint: No more replicas available for rdd_366_3 !\n",
      "25/02/24 02:21:53 WARN BlockManagerMasterEndpoint: No more replicas available for rdd_366_0 !\n",
      "25/02/24 02:21:53 WARN BlockManagerMasterEndpoint: No more replicas available for rdd_327_3 !\n",
      "25/02/24 02:21:53 WARN BlockManagerMasterEndpoint: No more replicas available for rdd_327_4 !\n",
      "25/02/24 02:21:53 WARN BlockManagerMasterEndpoint: No more replicas available for rdd_345_3 !\n",
      "25/02/24 02:21:53 WARN BlockManagerMasterEndpoint: No more replicas available for rdd_270_4 !\n",
      "25/02/24 02:21:53 WARN BlockManagerMasterEndpoint: No more replicas available for rdd_366_4 !\n",
      "25/02/24 02:21:53 WARN BlockManagerMasterEndpoint: No more replicas available for rdd_384_3 !\n",
      "25/02/24 02:21:53 WARN BlockManagerMasterEndpoint: No more replicas available for rdd_384_0 !\n",
      "25/02/24 02:21:53 WARN BlockManagerMasterEndpoint: No more replicas available for rdd_270_0 !\n",
      "25/02/24 02:21:53 WARN BlockManagerMasterEndpoint: No more replicas available for rdd_402_1 !\n",
      "25/02/24 02:21:53 WARN BlockManagerMasterEndpoint: No more replicas available for rdd_363_0 !\n",
      "25/02/24 02:21:53 WARN BlockManagerMasterEndpoint: No more replicas available for rdd_239_3 !\n",
      "25/02/24 02:21:53 WARN BlockManagerMasterEndpoint: No more replicas available for rdd_288_0 !\n",
      "25/02/24 02:21:53 WARN BlockManagerMasterEndpoint: No more replicas available for rdd_288_4 !\n",
      "25/02/24 02:21:53 WARN BlockManagerMasterEndpoint: No more replicas available for rdd_252_3 !\n",
      "25/02/24 02:21:53 WARN BlockManagerMasterEndpoint: No more replicas available for rdd_252_0 !\n",
      "25/02/24 02:21:53 WARN BlockManagerMasterEndpoint: No more replicas available for rdd_366_2 !\n",
      "25/02/24 02:21:53 WARN BlockManagerMasterEndpoint: No more replicas available for rdd_306_2 !\n",
      "25/02/24 02:21:53 WARN BlockManagerMasterEndpoint: No more replicas available for rdd_309_2 !\n",
      "25/02/24 02:21:53 WARN BlockManagerMasterEndpoint: No more replicas available for rdd_309_3 !\n",
      "25/02/24 02:21:53 WARN BlockManagerMasterEndpoint: No more replicas available for rdd_345_1 !\n",
      "25/02/24 02:21:53 WARN BlockManagerMasterEndpoint: No more replicas available for rdd_327_1 !\n",
      "25/02/24 02:21:53 WARN BlockManagerMasterEndpoint: No more replicas available for rdd_402_3 !\n",
      "25/02/24 02:26:39 ERROR TaskSchedulerImpl: Lost executor 82 on 172.20.0.4: worker lost: Not receiving heartbeat for 60 seconds\n",
      "25/02/24 02:26:39 ERROR TaskSchedulerImpl: Lost executor 81 on 172.20.0.5: worker lost: Not receiving heartbeat for 60 seconds\n",
      "25/02/24 02:26:39 ERROR TaskSchedulerImpl: Lost executor 83 on 172.20.0.3: worker lost: Not receiving heartbeat for 60 seconds\n"
     ]
    }
   ],
   "source": [
    "import time\n",
    "from pyspark import StorageLevel\n",
    "\n",
    "file_path = \"/data/test.ft.txt\"  # Ajusta el nombre del archivo según corresponda\n",
    "rdd = spark.sparkContext.textFile(file_path)\n",
    "\n",
    "# Función para contar palabras\n",
    "def word_count(rdd):\n",
    "    return (\n",
    "        rdd.flatMap(lambda line: line.split())  # Dividir líneas en palabras\n",
    "        .map(lambda word: (word.lower(), 1))    # Convertir a minúsculas y asignar 1 a cada palabra\n",
    "        .reduceByKey(lambda a, b: a + b)        # Sumar ocurrencias de cada palabra\n",
    "    )\n",
    "\n",
    "# Medir tiempo SIN CACHING\n",
    "start_time = time.time()\n",
    "word_counts_no_cache = word_count(rdd)\n",
    "word_counts_no_cache.count()  # Forzar ejecución de la acción\n",
    "time_no_cache = time.time() - start_time\n",
    "\n",
    "# Aplicar persistencia en memoria y disco (para evitar problemas de memoria)\n",
    "cached_rdd = rdd.persist(StorageLevel.MEMORY_AND_DISK)\n",
    "\n",
    "# Primera ejecución con caché (tarda más porque almacena los datos)\n",
    "word_count(cached_rdd).count()\n",
    "\n",
    "# Segunda ejecución con caché (medimos esta porque ya está en memoria)\n",
    "start_time = time.time()\n",
    "word_counts_cache = word_count(cached_rdd)\n",
    "word_counts_cache.count()\n",
    "time_with_cache = time.time() - start_time\n",
    "\n",
    "# Mostrar resultados\n",
    "print(f\"Tiempo sin caching: {time_no_cache:.4f} segundos\")\n",
    "print(f\"Tiempo con caching (segunda ejecución): {time_with_cache:.4f} segundos\")\n",
    "\n",
    "# Mostrar las 10 palabras más frecuentes\n",
    "top_words = word_counts_no_cache.takeOrdered(10, key=lambda x: -x[1])\n",
    "print(\"\\nTop 10 palabras más frecuentes:\")\n",
    "for word, count in top_words:\n",
    "    print(f\"{word}: {count}\")\n"
   ]
  },
  {
   "cell_type": "code",
   "execution_count": null,
   "id": "0a663620-9d00-4ddf-9a52-ca03db6a2210",
   "metadata": {},
   "outputs": [],
   "source": []
  }
 ],
 "metadata": {
  "kernelspec": {
   "display_name": "Python 3 (ipykernel)",
   "language": "python",
   "name": "python3"
  },
  "language_info": {
   "codemirror_mode": {
    "name": "ipython",
    "version": 3
   },
   "file_extension": ".py",
   "mimetype": "text/x-python",
   "name": "python",
   "nbconvert_exporter": "python",
   "pygments_lexer": "ipython3",
   "version": "3.8.10"
  }
 },
 "nbformat": 4,
 "nbformat_minor": 5
}
